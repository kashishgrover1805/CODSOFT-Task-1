{
  "nbformat": 4,
  "nbformat_minor": 0,
  "metadata": {
    "colab": {
      "provenance": []
    },
    "kernelspec": {
      "name": "python3",
      "display_name": "Python 3"
    },
    "language_info": {
      "name": "python"
    }
  },
  "cells": [
    {
      "cell_type": "code",
      "execution_count": 2,
      "metadata": {
        "colab": {
          "base_uri": "https://localhost:8080/"
        },
        "id": "kxtmWgVUpccG",
        "outputId": "3aa72fc7-d848-4304-8927-d1b7909d6a58"
      },
      "outputs": [
        {
          "output_type": "stream",
          "name": "stdout",
          "text": [
            "Welcome to the simple chatbot! Type 'bye' to exit.\n",
            "You: hi\n",
            "Chatbot: Hello! How can I help you today?\n",
            "You: how are you\n",
            "Chatbot: I'm just a program, but I'm here to help you!\n",
            "You: your name\n",
            "Chatbot: I am a simple chatbot created to assist you.\n",
            "You: time\n",
            "Chatbot: The current time is 06:49:00.\n",
            "You: date\n",
            "Chatbot: Today's date is 2024-07-19.\n",
            "You: bye\n",
            "Chatbot: Goodbye! Have a great day!\n"
          ]
        }
      ],
      "source": [
        "def chatbot_response(user_input):\n",
        "    user_input = user_input.lower()  # Normalize input to lowercase\n",
        "\n",
        "    # Greeting responses\n",
        "    if \"hello\" in user_input or \"hi\" in user_input:\n",
        "        return \"Hello! How can I help you today?\"\n",
        "\n",
        "    # Farewell responses\n",
        "    elif \"bye\" in user_input or \"goodbye\" in user_input:\n",
        "        return \"Goodbye! Have a great day!\"\n",
        "\n",
        "    # Questions about the chatbot\n",
        "    elif \"your name\" in user_input:\n",
        "        return \"I am a simple chatbot created to assist you.\"\n",
        "\n",
        "    # Asking how the user is\n",
        "    elif \"how are you\" in user_input:\n",
        "        return \"I'm just a program, but I'm here to help you!\"\n",
        "\n",
        "    # Asking for the current date\n",
        "    elif \"date\" in user_input:\n",
        "        from datetime import datetime\n",
        "        current_date = datetime.now().strftime(\"%Y-%m-%d\")\n",
        "        return f\"Today's date is {current_date}.\"\n",
        "\n",
        "    # Asking for the current time\n",
        "    elif \"time\" in user_input:\n",
        "        from datetime import datetime\n",
        "        current_time = datetime.now().strftime(\"%H:%M:%S\")\n",
        "        return f\"The current time is {current_time}.\"\n",
        "\n",
        "    # Asking for help\n",
        "    elif \"help\" in user_input or \"assist\" in user_input:\n",
        "        return \"Sure! I'm here to help. You can ask me about the date, time, or anything else you need assistance with.\"\n",
        "\n",
        "    # Default response for unrecognized inputs\n",
        "    else:\n",
        "        return \"I'm sorry, I don't understand that. Can you please rephrase?\"\n",
        "\n",
        "def chat():\n",
        "    print(\"Welcome to the simple chatbot! Type 'bye' to exit.\")\n",
        "    while True:\n",
        "        user_input = input(\"You: \")\n",
        "        if user_input.lower() in [\"bye\", \"goodbye\"]:\n",
        "            print(\"Chatbot: Goodbye! Have a great day!\")\n",
        "            break\n",
        "        response = chatbot_response(user_input)\n",
        "        print(f\"Chatbot: {response}\")\n",
        "\n",
        "# Run the chatbot\n",
        "chat()"
      ]
    }
  ]
}